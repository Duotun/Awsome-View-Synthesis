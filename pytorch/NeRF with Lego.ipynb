{
 "cells": [
  {
   "cell_type": "markdown",
   "id": "b64cefcf",
   "metadata": {},
   "source": [
    "## NeRF Implementations\n",
    "\n",
    "Implementation Reference: https://colab.research.google.com/drive/1_51bC5d6m7EFU6U_kkUL2lMYehJqc01R?usp=sharing#scrollTo=2B-j7Dur-3V7\n",
    "\n",
    "Prepare the Data for LEGO Model\n",
    "\n",
    "focal length: 138"
   ]
  },
  {
   "cell_type": "code",
   "execution_count": null,
   "id": "5ee8e807",
   "metadata": {},
   "outputs": [],
   "source": [
    "#data preparition\n",
    "\n",
    "import os\n",
    "import numpy as np\n",
    "import matplotlib.pyplot as plt\n",
    "import torch.nn as nn\n",
    "import torch\n",
    "import torch.nn.functional as F\n",
    "from tqdm import tqdm\n",
    "\n",
    "#device initialization\n",
    "device = torch.device(\"cuda\" if torch.cuda.is_available()else \"cpu\")\n",
    "\n",
    "\n",
    "data = np.load('tiny_nerf_data.npz')\n",
    "#images\n",
    "images = data['images']\n",
    "\n",
    "\n"
   ]
  }
 ],
 "metadata": {
  "kernelspec": {
   "display_name": "Python 3 (ipykernel)",
   "language": "python",
   "name": "python3"
  },
  "language_info": {
   "codemirror_mode": {
    "name": "ipython",
    "version": 3
   },
   "file_extension": ".py",
   "mimetype": "text/x-python",
   "name": "python",
   "nbconvert_exporter": "python",
   "pygments_lexer": "ipython3",
   "version": "3.9.16"
  }
 },
 "nbformat": 4,
 "nbformat_minor": 5
}
